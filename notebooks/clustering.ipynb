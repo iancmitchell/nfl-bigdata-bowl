{
 "cells": [
  {
   "cell_type": "markdown",
   "metadata": {},
   "source": [
    "# Clustering\n",
    "\n",
    "Perform kmeans clustering on the game data to look at how the data groups together."
   ]
  },
  {
   "cell_type": "code",
   "execution_count": 1,
   "metadata": {},
   "outputs": [],
   "source": [
    "import seaborn as sns \n",
    "import matplotlib.pyplot as plt\n",
    "import pandas as pd \n",
    "import numpy as np\n",
    "from sklearn.cluster import KMeans \n",
    "from sklearn.preprocessing import StandardScaler, MinMaxScaler, MaxAbsScaler\n",
    "from yellowbrick.cluster import KElbowVisualizer\n",
    "import math\n",
    "%matplotlib inline \n",
    "sns.set_style(\"white\")"
   ]
  },
  {
   "cell_type": "markdown",
   "metadata": {},
   "source": [
    "## Import Data\n",
    "\n",
    "Importing all 18 weeks of tracking data."
   ]
  },
  {
   "cell_type": "code",
   "execution_count": 2,
   "metadata": {},
   "outputs": [],
   "source": [
    "weeks = range(1,18)\n",
    "tracking = pd.DataFrame()\n",
    "for week in weeks:\n",
    "    csv_name = f\"week{week}.csv\"\n",
    "    df = pd.read_csv(f\"../data/{csv_name}\")\n",
    "    df[\"week\"] = week\n",
    "    tracking = tracking.append(df)"
   ]
  },
  {
   "cell_type": "code",
   "execution_count": 3,
   "metadata": {},
   "outputs": [
    {
     "data": {
      "text/html": [
       "<div>\n",
       "<style scoped>\n",
       "    .dataframe tbody tr th:only-of-type {\n",
       "        vertical-align: middle;\n",
       "    }\n",
       "\n",
       "    .dataframe tbody tr th {\n",
       "        vertical-align: top;\n",
       "    }\n",
       "\n",
       "    .dataframe thead th {\n",
       "        text-align: right;\n",
       "    }\n",
       "</style>\n",
       "<table border=\"1\" class=\"dataframe\">\n",
       "  <thead>\n",
       "    <tr style=\"text-align: right;\">\n",
       "      <th></th>\n",
       "      <th>time</th>\n",
       "      <th>x</th>\n",
       "      <th>y</th>\n",
       "      <th>s</th>\n",
       "      <th>a</th>\n",
       "      <th>dis</th>\n",
       "      <th>o</th>\n",
       "      <th>dir</th>\n",
       "      <th>event</th>\n",
       "      <th>nflId</th>\n",
       "      <th>displayName</th>\n",
       "      <th>jerseyNumber</th>\n",
       "      <th>position</th>\n",
       "      <th>frameId</th>\n",
       "      <th>team</th>\n",
       "      <th>gameId</th>\n",
       "      <th>playId</th>\n",
       "      <th>playDirection</th>\n",
       "      <th>route</th>\n",
       "      <th>week</th>\n",
       "    </tr>\n",
       "  </thead>\n",
       "  <tbody>\n",
       "    <tr>\n",
       "      <th>0</th>\n",
       "      <td>2018-09-07T01:07:14.599Z</td>\n",
       "      <td>91.73</td>\n",
       "      <td>26.67</td>\n",
       "      <td>0.00</td>\n",
       "      <td>0.01</td>\n",
       "      <td>0.02</td>\n",
       "      <td>289.57</td>\n",
       "      <td>240.93</td>\n",
       "      <td>None</td>\n",
       "      <td>310.0</td>\n",
       "      <td>Matt Ryan</td>\n",
       "      <td>2.0</td>\n",
       "      <td>QB</td>\n",
       "      <td>1</td>\n",
       "      <td>away</td>\n",
       "      <td>2018090600</td>\n",
       "      <td>75</td>\n",
       "      <td>left</td>\n",
       "      <td>NaN</td>\n",
       "      <td>1</td>\n",
       "    </tr>\n",
       "    <tr>\n",
       "      <th>1</th>\n",
       "      <td>2018-09-07T01:07:14.599Z</td>\n",
       "      <td>88.89</td>\n",
       "      <td>36.47</td>\n",
       "      <td>0.01</td>\n",
       "      <td>0.01</td>\n",
       "      <td>0.01</td>\n",
       "      <td>105.63</td>\n",
       "      <td>66.66</td>\n",
       "      <td>None</td>\n",
       "      <td>79848.0</td>\n",
       "      <td>Malcolm Jenkins</td>\n",
       "      <td>27.0</td>\n",
       "      <td>SS</td>\n",
       "      <td>1</td>\n",
       "      <td>home</td>\n",
       "      <td>2018090600</td>\n",
       "      <td>75</td>\n",
       "      <td>left</td>\n",
       "      <td>NaN</td>\n",
       "      <td>1</td>\n",
       "    </tr>\n",
       "    <tr>\n",
       "      <th>2</th>\n",
       "      <td>2018-09-07T01:07:14.599Z</td>\n",
       "      <td>91.35</td>\n",
       "      <td>44.16</td>\n",
       "      <td>0.02</td>\n",
       "      <td>0.03</td>\n",
       "      <td>0.01</td>\n",
       "      <td>290.45</td>\n",
       "      <td>16.86</td>\n",
       "      <td>None</td>\n",
       "      <td>2495454.0</td>\n",
       "      <td>Julio Jones</td>\n",
       "      <td>11.0</td>\n",
       "      <td>WR</td>\n",
       "      <td>1</td>\n",
       "      <td>away</td>\n",
       "      <td>2018090600</td>\n",
       "      <td>75</td>\n",
       "      <td>left</td>\n",
       "      <td>HITCH</td>\n",
       "      <td>1</td>\n",
       "    </tr>\n",
       "    <tr>\n",
       "      <th>3</th>\n",
       "      <td>2018-09-07T01:07:14.599Z</td>\n",
       "      <td>86.31</td>\n",
       "      <td>22.01</td>\n",
       "      <td>0.09</td>\n",
       "      <td>0.42</td>\n",
       "      <td>0.01</td>\n",
       "      <td>70.12</td>\n",
       "      <td>168.91</td>\n",
       "      <td>None</td>\n",
       "      <td>2495613.0</td>\n",
       "      <td>Corey Graham</td>\n",
       "      <td>24.0</td>\n",
       "      <td>FS</td>\n",
       "      <td>1</td>\n",
       "      <td>home</td>\n",
       "      <td>2018090600</td>\n",
       "      <td>75</td>\n",
       "      <td>left</td>\n",
       "      <td>NaN</td>\n",
       "      <td>1</td>\n",
       "    </tr>\n",
       "    <tr>\n",
       "      <th>4</th>\n",
       "      <td>2018-09-07T01:07:14.599Z</td>\n",
       "      <td>90.78</td>\n",
       "      <td>36.15</td>\n",
       "      <td>0.00</td>\n",
       "      <td>0.00</td>\n",
       "      <td>0.00</td>\n",
       "      <td>257.61</td>\n",
       "      <td>193.97</td>\n",
       "      <td>None</td>\n",
       "      <td>2533040.0</td>\n",
       "      <td>Mohamed Sanu</td>\n",
       "      <td>12.0</td>\n",
       "      <td>WR</td>\n",
       "      <td>1</td>\n",
       "      <td>away</td>\n",
       "      <td>2018090600</td>\n",
       "      <td>75</td>\n",
       "      <td>left</td>\n",
       "      <td>HITCH</td>\n",
       "      <td>1</td>\n",
       "    </tr>\n",
       "  </tbody>\n",
       "</table>\n",
       "</div>"
      ],
      "text/plain": [
       "                       time      x      y     s     a   dis       o     dir  \\\n",
       "0  2018-09-07T01:07:14.599Z  91.73  26.67  0.00  0.01  0.02  289.57  240.93   \n",
       "1  2018-09-07T01:07:14.599Z  88.89  36.47  0.01  0.01  0.01  105.63   66.66   \n",
       "2  2018-09-07T01:07:14.599Z  91.35  44.16  0.02  0.03  0.01  290.45   16.86   \n",
       "3  2018-09-07T01:07:14.599Z  86.31  22.01  0.09  0.42  0.01   70.12  168.91   \n",
       "4  2018-09-07T01:07:14.599Z  90.78  36.15  0.00  0.00  0.00  257.61  193.97   \n",
       "\n",
       "  event      nflId      displayName  jerseyNumber position  frameId  team  \\\n",
       "0  None      310.0        Matt Ryan           2.0       QB        1  away   \n",
       "1  None    79848.0  Malcolm Jenkins          27.0       SS        1  home   \n",
       "2  None  2495454.0      Julio Jones          11.0       WR        1  away   \n",
       "3  None  2495613.0     Corey Graham          24.0       FS        1  home   \n",
       "4  None  2533040.0     Mohamed Sanu          12.0       WR        1  away   \n",
       "\n",
       "       gameId  playId playDirection  route  week  \n",
       "0  2018090600      75          left    NaN     1  \n",
       "1  2018090600      75          left    NaN     1  \n",
       "2  2018090600      75          left  HITCH     1  \n",
       "3  2018090600      75          left    NaN     1  \n",
       "4  2018090600      75          left  HITCH     1  "
      ]
     },
     "execution_count": 3,
     "metadata": {},
     "output_type": "execute_result"
    }
   ],
   "source": [
    "tracking.head()"
   ]
  },
  {
   "cell_type": "markdown",
   "metadata": {},
   "source": [
    "## Prepare Data"
   ]
  },
  {
   "cell_type": "code",
   "execution_count": 4,
   "metadata": {},
   "outputs": [
    {
     "data": {
      "text/html": [
       "<div>\n",
       "<style scoped>\n",
       "    .dataframe tbody tr th:only-of-type {\n",
       "        vertical-align: middle;\n",
       "    }\n",
       "\n",
       "    .dataframe tbody tr th {\n",
       "        vertical-align: top;\n",
       "    }\n",
       "\n",
       "    .dataframe thead th {\n",
       "        text-align: right;\n",
       "    }\n",
       "</style>\n",
       "<table border=\"1\" class=\"dataframe\">\n",
       "  <thead>\n",
       "    <tr style=\"text-align: right;\">\n",
       "      <th></th>\n",
       "      <th>time</th>\n",
       "      <th>x</th>\n",
       "      <th>y</th>\n",
       "      <th>s</th>\n",
       "      <th>a</th>\n",
       "      <th>dis</th>\n",
       "      <th>o</th>\n",
       "      <th>dir</th>\n",
       "      <th>event</th>\n",
       "      <th>nflId</th>\n",
       "      <th>...</th>\n",
       "      <th>frameId</th>\n",
       "      <th>team</th>\n",
       "      <th>gameId</th>\n",
       "      <th>playId</th>\n",
       "      <th>playDirection</th>\n",
       "      <th>route</th>\n",
       "      <th>week</th>\n",
       "      <th>x_bin</th>\n",
       "      <th>y_bin</th>\n",
       "      <th>endzone_prox</th>\n",
       "    </tr>\n",
       "  </thead>\n",
       "  <tbody>\n",
       "    <tr>\n",
       "      <th>0</th>\n",
       "      <td>2018-09-07T01:07:14.599Z</td>\n",
       "      <td>91.73</td>\n",
       "      <td>26.67</td>\n",
       "      <td>0.00</td>\n",
       "      <td>0.01</td>\n",
       "      <td>0.02</td>\n",
       "      <td>289.57</td>\n",
       "      <td>240.93</td>\n",
       "      <td>None</td>\n",
       "      <td>310.0</td>\n",
       "      <td>...</td>\n",
       "      <td>1</td>\n",
       "      <td>away</td>\n",
       "      <td>2018090600</td>\n",
       "      <td>75</td>\n",
       "      <td>left</td>\n",
       "      <td>NaN</td>\n",
       "      <td>1</td>\n",
       "      <td>7</td>\n",
       "      <td>5</td>\n",
       "      <td>0.528833</td>\n",
       "    </tr>\n",
       "    <tr>\n",
       "      <th>1</th>\n",
       "      <td>2018-09-07T01:07:14.599Z</td>\n",
       "      <td>88.89</td>\n",
       "      <td>36.47</td>\n",
       "      <td>0.01</td>\n",
       "      <td>0.01</td>\n",
       "      <td>0.01</td>\n",
       "      <td>105.63</td>\n",
       "      <td>66.66</td>\n",
       "      <td>None</td>\n",
       "      <td>79848.0</td>\n",
       "      <td>...</td>\n",
       "      <td>1</td>\n",
       "      <td>home</td>\n",
       "      <td>2018090600</td>\n",
       "      <td>75</td>\n",
       "      <td>left</td>\n",
       "      <td>NaN</td>\n",
       "      <td>1</td>\n",
       "      <td>7</td>\n",
       "      <td>6</td>\n",
       "      <td>0.481500</td>\n",
       "    </tr>\n",
       "    <tr>\n",
       "      <th>2</th>\n",
       "      <td>2018-09-07T01:07:14.599Z</td>\n",
       "      <td>91.35</td>\n",
       "      <td>44.16</td>\n",
       "      <td>0.02</td>\n",
       "      <td>0.03</td>\n",
       "      <td>0.01</td>\n",
       "      <td>290.45</td>\n",
       "      <td>16.86</td>\n",
       "      <td>None</td>\n",
       "      <td>2495454.0</td>\n",
       "      <td>...</td>\n",
       "      <td>1</td>\n",
       "      <td>away</td>\n",
       "      <td>2018090600</td>\n",
       "      <td>75</td>\n",
       "      <td>left</td>\n",
       "      <td>HITCH</td>\n",
       "      <td>1</td>\n",
       "      <td>7</td>\n",
       "      <td>8</td>\n",
       "      <td>0.522500</td>\n",
       "    </tr>\n",
       "    <tr>\n",
       "      <th>3</th>\n",
       "      <td>2018-09-07T01:07:14.599Z</td>\n",
       "      <td>86.31</td>\n",
       "      <td>22.01</td>\n",
       "      <td>0.09</td>\n",
       "      <td>0.42</td>\n",
       "      <td>0.01</td>\n",
       "      <td>70.12</td>\n",
       "      <td>168.91</td>\n",
       "      <td>None</td>\n",
       "      <td>2495613.0</td>\n",
       "      <td>...</td>\n",
       "      <td>1</td>\n",
       "      <td>home</td>\n",
       "      <td>2018090600</td>\n",
       "      <td>75</td>\n",
       "      <td>left</td>\n",
       "      <td>NaN</td>\n",
       "      <td>1</td>\n",
       "      <td>7</td>\n",
       "      <td>4</td>\n",
       "      <td>0.438500</td>\n",
       "    </tr>\n",
       "    <tr>\n",
       "      <th>4</th>\n",
       "      <td>2018-09-07T01:07:14.599Z</td>\n",
       "      <td>90.78</td>\n",
       "      <td>36.15</td>\n",
       "      <td>0.00</td>\n",
       "      <td>0.00</td>\n",
       "      <td>0.00</td>\n",
       "      <td>257.61</td>\n",
       "      <td>193.97</td>\n",
       "      <td>None</td>\n",
       "      <td>2533040.0</td>\n",
       "      <td>...</td>\n",
       "      <td>1</td>\n",
       "      <td>away</td>\n",
       "      <td>2018090600</td>\n",
       "      <td>75</td>\n",
       "      <td>left</td>\n",
       "      <td>HITCH</td>\n",
       "      <td>1</td>\n",
       "      <td>7</td>\n",
       "      <td>6</td>\n",
       "      <td>0.513000</td>\n",
       "    </tr>\n",
       "  </tbody>\n",
       "</table>\n",
       "<p>5 rows × 23 columns</p>\n",
       "</div>"
      ],
      "text/plain": [
       "                       time      x      y     s     a   dis       o     dir  \\\n",
       "0  2018-09-07T01:07:14.599Z  91.73  26.67  0.00  0.01  0.02  289.57  240.93   \n",
       "1  2018-09-07T01:07:14.599Z  88.89  36.47  0.01  0.01  0.01  105.63   66.66   \n",
       "2  2018-09-07T01:07:14.599Z  91.35  44.16  0.02  0.03  0.01  290.45   16.86   \n",
       "3  2018-09-07T01:07:14.599Z  86.31  22.01  0.09  0.42  0.01   70.12  168.91   \n",
       "4  2018-09-07T01:07:14.599Z  90.78  36.15  0.00  0.00  0.00  257.61  193.97   \n",
       "\n",
       "  event      nflId  ... frameId  team      gameId  playId playDirection  \\\n",
       "0  None      310.0  ...       1  away  2018090600      75          left   \n",
       "1  None    79848.0  ...       1  home  2018090600      75          left   \n",
       "2  None  2495454.0  ...       1  away  2018090600      75          left   \n",
       "3  None  2495613.0  ...       1  home  2018090600      75          left   \n",
       "4  None  2533040.0  ...       1  away  2018090600      75          left   \n",
       "\n",
       "   route  week x_bin y_bin  endzone_prox  \n",
       "0    NaN     1     7     5      0.528833  \n",
       "1    NaN     1     7     6      0.481500  \n",
       "2  HITCH     1     7     8      0.522500  \n",
       "3    NaN     1     7     4      0.438500  \n",
       "4  HITCH     1     7     6      0.513000  \n",
       "\n",
       "[5 rows x 23 columns]"
      ]
     },
     "execution_count": 4,
     "metadata": {},
     "output_type": "execute_result"
    }
   ],
   "source": [
    "tracking[\"x_bin\"] = tracking[\"x\"].apply(lambda x: math.floor(x/12))\n",
    "tracking[\"y_bin\"] = tracking[\"y\"].apply(lambda y: math.floor(y/5.33))\n",
    "tracking[\"endzone_prox\"] = (tracking[\"x\"] - 60) / 60\n",
    "tracking.head()"
   ]
  },
  {
   "cell_type": "code",
   "execution_count": 5,
   "metadata": {},
   "outputs": [],
   "source": [
    "tracking = tracking.fillna(0)\n",
    "\n",
    "num_features = [\"x_bin\", \"y_bin\", \"endzone_prox\", \"s\", \"a\", \"dis\"]\n",
    "cat_features = [\"event\", \"position\", \"team\", \"playDirection\", \"route\"]\n",
    "\n",
    "train_data = tracking[num_features].copy()\n",
    "scaler = StandardScaler()\n",
    "train_data = scaler.fit_transform(train_data)"
   ]
  },
  {
   "cell_type": "markdown",
   "metadata": {},
   "source": [
    "## Train Model\n",
    "\n",
    "Here we will train a few different kmeans models with varying number of clusters to determine the most optimal number of custers to use via the elbow method."
   ]
  },
  {
   "cell_type": "code",
   "execution_count": 6,
   "metadata": {},
   "outputs": [],
   "source": [
    "n_clusters = 6\n",
    "random_state = 42\n",
    "n_jobs = -1\n",
    "kmeans_model = KMeans(\n",
    "    n_clusters=n_clusters, \n",
    "    random_state=random_state,\n",
    "    n_jobs=n_jobs,\n",
    "    verbose=0\n",
    ")"
   ]
  },
  {
   "cell_type": "code",
   "execution_count": 7,
   "metadata": {},
   "outputs": [
    {
     "name": "stderr",
     "output_type": "stream",
     "text": [
      "/home/ian/.local/lib/python3.8/site-packages/sklearn/cluster/_kmeans.py:938: FutureWarning: 'n_jobs' was deprecated in version 0.23 and will be removed in 0.25.\n",
      "  warnings.warn(\"'n_jobs' was deprecated in version 0.23 and will be\"\n",
      "/home/ian/.local/lib/python3.8/site-packages/sklearn/cluster/_kmeans.py:938: FutureWarning: 'n_jobs' was deprecated in version 0.23 and will be removed in 0.25.\n",
      "  warnings.warn(\"'n_jobs' was deprecated in version 0.23 and will be\"\n",
      "/home/ian/.local/lib/python3.8/site-packages/sklearn/cluster/_kmeans.py:938: FutureWarning: 'n_jobs' was deprecated in version 0.23 and will be removed in 0.25.\n",
      "  warnings.warn(\"'n_jobs' was deprecated in version 0.23 and will be\"\n",
      "/home/ian/.local/lib/python3.8/site-packages/sklearn/cluster/_kmeans.py:938: FutureWarning: 'n_jobs' was deprecated in version 0.23 and will be removed in 0.25.\n",
      "  warnings.warn(\"'n_jobs' was deprecated in version 0.23 and will be\"\n",
      "/home/ian/.local/lib/python3.8/site-packages/sklearn/cluster/_kmeans.py:938: FutureWarning: 'n_jobs' was deprecated in version 0.23 and will be removed in 0.25.\n",
      "  warnings.warn(\"'n_jobs' was deprecated in version 0.23 and will be\"\n",
      "/home/ian/.local/lib/python3.8/site-packages/sklearn/cluster/_kmeans.py:938: FutureWarning: 'n_jobs' was deprecated in version 0.23 and will be removed in 0.25.\n",
      "  warnings.warn(\"'n_jobs' was deprecated in version 0.23 and will be\"\n",
      "/home/ian/.local/lib/python3.8/site-packages/sklearn/cluster/_kmeans.py:938: FutureWarning: 'n_jobs' was deprecated in version 0.23 and will be removed in 0.25.\n",
      "  warnings.warn(\"'n_jobs' was deprecated in version 0.23 and will be\"\n",
      "/home/ian/.local/lib/python3.8/site-packages/sklearn/cluster/_kmeans.py:938: FutureWarning: 'n_jobs' was deprecated in version 0.23 and will be removed in 0.25.\n",
      "  warnings.warn(\"'n_jobs' was deprecated in version 0.23 and will be\"\n"
     ]
    },
    {
     "data": {
      "image/png": "[encoded data removed]",
      "text/plain": [
       "<Figure size 432x288 with 2 Axes>"
      ]
     },
     "metadata": {},
     "output_type": "display_data"
    },
    {
     "data": {
      "text/plain": [
       "<AxesSubplot:title={'center':'Distortion Score Elbow for KMeans Clustering'}, xlabel='k', ylabel='distortion score'>"
      ]
     },
     "execution_count": 7,
     "metadata": {},
     "output_type": "execute_result"
    }
   ],
   "source": [
    "visualizer = KElbowVisualizer(kmeans_model, k=(2,10))\n",
    "visualizer.fit(train_data)\n",
    "visualizer.show()"
   ]
  },
  {
   "cell_type": "markdown",
   "metadata": {},
   "source": [
    "## Score Model"
   ]
  },
  {
   "cell_type": "code",
   "execution_count": 8,
   "metadata": {},
   "outputs": [
    {
     "name": "stderr",
     "output_type": "stream",
     "text": [
      "/home/ian/.local/lib/python3.8/site-packages/sklearn/cluster/_kmeans.py:938: FutureWarning: 'n_jobs' was deprecated in version 0.23 and will be removed in 0.25.\n",
      "  warnings.warn(\"'n_jobs' was deprecated in version 0.23 and will be\"\n"
     ]
    },
    {
     "data": {
      "text/plain": [
       "-52624707.66292042"
      ]
     },
     "execution_count": 8,
     "metadata": {},
     "output_type": "execute_result"
    }
   ],
   "source": [
    "best_n_clusters = 5\n",
    "kmeans_model = KMeans(\n",
    "    n_clusters=best_n_clusters, \n",
    "    random_state=random_state,\n",
    "    n_jobs=n_jobs,\n",
    "    verbose=0\n",
    ")\n",
    "kmeans_model.fit(train_data)\n",
    "kmeans_model.score(train_data)"
   ]
  },
  {
   "cell_type": "markdown",
   "metadata": {},
   "source": [
    "## Predict"
   ]
  },
  {
   "cell_type": "code",
   "execution_count": 9,
   "metadata": {},
   "outputs": [],
   "source": [
    "train_data = pd.DataFrame(train_data, columns=num_features)\n",
    "train_data[\"cluster\"] = kmeans_model.predict(train_data)"
   ]
  },
  {
   "cell_type": "code",
   "execution_count": 10,
   "metadata": {},
   "outputs": [
    {
     "data": {
      "text/html": [
       "<div>\n",
       "<style scoped>\n",
       "    .dataframe tbody tr th:only-of-type {\n",
       "        vertical-align: middle;\n",
       "    }\n",
       "\n",
       "    .dataframe tbody tr th {\n",
       "        vertical-align: top;\n",
       "    }\n",
       "\n",
       "    .dataframe thead th {\n",
       "        text-align: right;\n",
       "    }\n",
       "</style>\n",
       "<table border=\"1\" class=\"dataframe\">\n",
       "  <thead>\n",
       "    <tr style=\"text-align: right;\">\n",
       "      <th></th>\n",
       "      <th>x_bin</th>\n",
       "      <th>y_bin</th>\n",
       "      <th>endzone_prox</th>\n",
       "      <th>s</th>\n",
       "      <th>a</th>\n",
       "      <th>dis</th>\n",
       "      <th>cluster</th>\n",
       "    </tr>\n",
       "  </thead>\n",
       "  <tbody>\n",
       "    <tr>\n",
       "      <th>0</th>\n",
       "      <td>1.214645</td>\n",
       "      <td>0.230509</td>\n",
       "      <td>1.298915</td>\n",
       "      <td>-1.117803</td>\n",
       "      <td>-1.235960</td>\n",
       "      <td>-0.987551</td>\n",
       "      <td>2</td>\n",
       "    </tr>\n",
       "    <tr>\n",
       "      <th>1</th>\n",
       "      <td>1.214645</td>\n",
       "      <td>0.706536</td>\n",
       "      <td>1.183263</td>\n",
       "      <td>-1.114302</td>\n",
       "      <td>-1.235960</td>\n",
       "      <td>-1.020129</td>\n",
       "      <td>2</td>\n",
       "    </tr>\n",
       "    <tr>\n",
       "      <th>2</th>\n",
       "      <td>1.214645</td>\n",
       "      <td>1.658590</td>\n",
       "      <td>1.283440</td>\n",
       "      <td>-1.110801</td>\n",
       "      <td>-1.223469</td>\n",
       "      <td>-1.020129</td>\n",
       "      <td>2</td>\n",
       "    </tr>\n",
       "    <tr>\n",
       "      <th>3</th>\n",
       "      <td>1.214645</td>\n",
       "      <td>-0.245518</td>\n",
       "      <td>1.078199</td>\n",
       "      <td>-1.086296</td>\n",
       "      <td>-0.979899</td>\n",
       "      <td>-1.020129</td>\n",
       "      <td>2</td>\n",
       "    </tr>\n",
       "    <tr>\n",
       "      <th>4</th>\n",
       "      <td>1.214645</td>\n",
       "      <td>0.706536</td>\n",
       "      <td>1.260228</td>\n",
       "      <td>-1.117803</td>\n",
       "      <td>-1.242205</td>\n",
       "      <td>-1.052706</td>\n",
       "      <td>2</td>\n",
       "    </tr>\n",
       "  </tbody>\n",
       "</table>\n",
       "</div>"
      ],
      "text/plain": [
       "      x_bin     y_bin  endzone_prox         s         a       dis  cluster\n",
       "0  1.214645  0.230509      1.298915 -1.117803 -1.235960 -0.987551        2\n",
       "1  1.214645  0.706536      1.183263 -1.114302 -1.235960 -1.020129        2\n",
       "2  1.214645  1.658590      1.283440 -1.110801 -1.223469 -1.020129        2\n",
       "3  1.214645 -0.245518      1.078199 -1.086296 -0.979899 -1.020129        2\n",
       "4  1.214645  0.706536      1.260228 -1.117803 -1.242205 -1.052706        2"
      ]
     },
     "execution_count": 10,
     "metadata": {},
     "output_type": "execute_result"
    }
   ],
   "source": [
    "train_data.head()"
   ]
  },
  {
   "cell_type": "markdown",
   "metadata": {},
   "source": [
    "## Inspect Clusters\n",
    "\n",
    "Let's take a look at the average values for each cluster to get an idea of the characteristics that separate them. "
   ]
  },
  {
   "cell_type": "code",
   "execution_count": 11,
   "metadata": {},
   "outputs": [],
   "source": [
    "by_cluster = train_data.groupby(\"cluster\").mean()\n",
    "#abs_scaler = MaxAbsScaler()\n",
    "#by_cluster[num_features] = abs_scaler.fit_transform(by_cluster[num_features])"
   ]
  },
  {
   "cell_type": "code",
   "execution_count": 12,
   "metadata": {},
   "outputs": [
    {
     "data": {
      "image/png": "[encoded data removed]",
      "text/plain": [
       "<Figure size 720x720 with 2 Axes>"
      ]
     },
     "metadata": {},
     "output_type": "display_data"
    }
   ],
   "source": [
    "fig = plt.figure(figsize=(10,10))\n",
    "ax = sns.heatmap(by_cluster, cmap=sns.diverging_palette(240, 10, n=25))\n",
    "plt.show()"
   ]
  },
  {
   "cell_type": "markdown",
   "metadata": {},
   "source": [
    "We can see here that there isn't much differentiation between most of the clusters. The one that really stands out is cluster 4. Here we average the highest s and dis values. These are most likely movements that resulted in the greatest change on the field. We could potentially benefit from looking at movements in this cluster differently than the other clusters in the overall model."
   ]
  },
  {
   "cell_type": "code",
   "execution_count": 27,
   "metadata": {},
   "outputs": [
    {
     "data": {
      "image/png": "[encoded data removed]",
      "text/plain": [
       "<Figure size 720x720 with 1 Axes>"
      ]
     },
     "metadata": {},
     "output_type": "display_data"
    }
   ],
   "source": [
    "fig = plt.figure(figsize=(10,10))\n",
    "ax = sns.histplot(train_data[\"cluster\"], bins=best_n_clusters, discrete=True)\n",
    "ax.set_title(\"Cluster Size\")\n",
    "plt.show()"
   ]
  },
  {
   "cell_type": "markdown",
   "metadata": {},
   "source": [
    "As we can see here, cluster 4 is significantly smaller than the rest of the clusters. This is also the cluster that contains tracking data with the highest average s and dis values. It may be worth marking these or treating these points differently in the overall model. "
   ]
  },
  {
   "cell_type": "code",
   "execution_count": null,
   "metadata": {},
   "outputs": [],
   "source": []
  }
 ],
 "metadata": {
  "kernelspec": {
   "display_name": "Python 3",
   "language": "python",
   "name": "python3"
  },
  "language_info": {
   "codemirror_mode": {
    "name": "ipython",
    "version": 3
   },
   "file_extension": ".py",
   "mimetype": "text/x-python",
   "name": "python",
   "nbconvert_exporter": "python",
   "pygments_lexer": "ipython3",
   "version": "3.7.6"
  }
 },
 "nbformat": 4,
 "nbformat_minor": 4
}
